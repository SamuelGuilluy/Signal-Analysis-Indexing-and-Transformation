{
 "cells": [
  {
   "cell_type": "markdown",
   "metadata": {},
   "source": [
    "# Part 1: Data Analysis"
   ]
  },
  {
   "cell_type": "markdown",
   "metadata": {},
   "source": [
    "## Import Libraries and Load data"
   ]
  },
  {
   "cell_type": "code",
   "execution_count": 210,
   "metadata": {
    "pycharm": {
     "is_executing": false
    }
   },
   "outputs": [],
   "source": [
    "import sys,os,signal\n",
    "\n",
    "import numpy as np\n",
    "import musicnet\n",
    "\n",
    "import random\n",
    "\n",
    "import torch\n",
    "from torch.autograd import Variable\n",
    "from torch.nn.functional import conv1d, mse_loss\n",
    "import torch.nn as nn\n",
    "\n",
    "from time import time\n",
    "\n",
    "import matplotlib.pyplot as plt\n",
    "from IPython.display import Audio\n",
    "\n",
    "from sklearn.metrics import average_precision_score\n",
    "\n",
    "from python_speech_features import mfcc\n",
    "\n",
    "root = './musicnet'\n",
    "\n",
    "%matplotlib inline\n",
    "\n",
    "import pretty_midi\n",
    "import librosa, librosa.display\n",
    "\n",
    "\n",
    "import IPython.display as ipd\n",
    "\n",
    "\n",
    "import torch.optim as optim\n",
    "import torchvision\n",
    "import torchvision.transforms as transforms\n",
    "from pathlib import Path\n",
    "from NADE_mine.model import NADE\n",
    "from python_speech_features import mfcc\n",
    "from torch.autograd import Variable\n",
    "import musicnet\n",
    "import sys, os, signal\n",
    "import numpy as np\n",
    "from time import time\n",
    "from IPython.display import Audio\n"
   ]
  },
  {
   "cell_type": "markdown",
   "metadata": {},
   "source": [
    "The code for loading the data come from : https://github.com/jthickstun/pytorch_musicnet/blob/master/musicnet_module.ipynb"
   ]
  },
  {
   "cell_type": "code",
   "execution_count": 2,
   "metadata": {
    "pycharm": {
     "is_executing": false
    },
    "scrolled": true
   },
   "outputs": [],
   "source": [
    "m = 128 ## second dimension of y : maximum number of note : quelquel note on entend dans cette extrait ?\n",
    "k = 500\n",
    "d = 4096\n",
    "\n",
    "window = 16384\n",
    "stride = 512\n",
    "regions = 1 + (window - d)//stride\n",
    "\n",
    "\n",
    "def worker_init(args):\n",
    "    signal.signal(signal.SIGINT, signal.SIG_IGN) # ignore signals so parent can handle them\n",
    "    np.random.seed(os.getpid() ^ int(time())) # approximately random seed for workers\n",
    "\n",
    "batch_size = 100\n",
    "kwargs = {'num_workers': 0, 'pin_memory': True, 'worker_init_fn': worker_init}\n",
    "\n",
    "train_set = musicnet.MusicNet(root=root, train=True, download=True,normalize =False, window=window)\n",
    "test_set = musicnet.MusicNet(root=root, train=False,normalize =False, window=window, epoch_size=50000)\n",
    "\n",
    "train_loader = torch.utils.data.DataLoader(dataset=train_set,batch_size=batch_size,**kwargs)\n",
    "test_loader = torch.utils.data.DataLoader(dataset=test_set,batch_size=batch_size,**kwargs)"
   ]
  },
  {
   "cell_type": "markdown",
   "metadata": {},
   "source": [
    "### Load the ConvNet model"
   ]
  },
  {
   "cell_type": "code",
   "execution_count": 3,
   "metadata": {},
   "outputs": [],
   "source": [
    "class ConvNet(nn.Module):\n",
    "    def __init__(self):\n",
    "        super(ConvNet, self).__init__()\n",
    "        self.layer1 = nn.Sequential(\n",
    "            nn.Conv2d(in_channels=1, out_channels=8, kernel_size=1, stride=1, padding=1),\n",
    "            nn.ReLU())\n",
    "        \n",
    "        self.layer2 = nn.Sequential(\n",
    "            nn.Conv2d(in_channels=8, out_channels=8, kernel_size=1, stride=1, padding=1),\n",
    "            nn.ReLU())\n",
    "        \n",
    "        self.drop_out = nn.Dropout()\n",
    "        self.fc1 = nn.Linear(84*310+8, 50)\n",
    "        self.fc2 = nn.Linear(50, 128)\n",
    "    def forward(self, x):\n",
    "        val = x[:,None,:,:]\n",
    "        out = self.layer1(val)\n",
    "        out = self.layer2(out)\n",
    "        #print('avant : ',out.size())\n",
    "        out = out.reshape(out.size(0), -1)\n",
    "        #print('après : ',out.size())\n",
    "        out = self.drop_out(out)\n",
    "        #print('après dropout : ',out.size())\n",
    "        out = self.fc1(out)\n",
    "        #print('après fc1 : ',out.size())\n",
    "        out = self.fc2(out)\n",
    "        #print('après fc2: ',out.size())\n",
    "        return out"
   ]
  },
  {
   "cell_type": "markdown",
   "metadata": {},
   "source": [
    "## Check the cuda version and if it is available"
   ]
  },
  {
   "cell_type": "code",
   "execution_count": 4,
   "metadata": {
    "pycharm": {
     "is_executing": false
    }
   },
   "outputs": [
    {
     "name": "stdout",
     "output_type": "stream",
     "text": [
      "10.1\n",
      "1\n",
      "True\n"
     ]
    }
   ],
   "source": [
    "print(torch.version.cuda)  \n",
    "print(torch.cuda.device_count())\n",
    "print(torch.cuda.is_available())"
   ]
  },
  {
   "cell_type": "markdown",
   "metadata": {},
   "source": [
    "### Load the NADE Model"
   ]
  },
  {
   "cell_type": "code",
   "execution_count": 86,
   "metadata": {},
   "outputs": [
    {
     "data": {
      "text/plain": [
       "NADE(\n",
       "  (params): ParameterDict(\n",
       "      (V): Parameter containing: [torch.cuda.FloatTensor of size 128x50 (GPU 0)]\n",
       "      (W): Parameter containing: [torch.cuda.FloatTensor of size 50x128 (GPU 0)]\n",
       "      (b): Parameter containing: [torch.cuda.FloatTensor of size 128 (GPU 0)]\n",
       "      (c): Parameter containing: [torch.cuda.FloatTensor of size 1x50 (GPU 0)]\n",
       "  )\n",
       ")"
      ]
     },
     "execution_count": 86,
     "metadata": {},
     "output_type": "execute_result"
    }
   ],
   "source": [
    "device = \"cuda\" if torch.cuda.is_available() else \"cpu\"\n",
    "\n",
    "model_NADE = NADE(input_dim=128, hidden_dim=50).to(device)\n",
    "model_NADE.load_state_dict(torch.load(\"nade-binary.pt\"))\n",
    "model_NADE.eval()"
   ]
  },
  {
   "cell_type": "markdown",
   "metadata": {},
   "source": [
    "### Load the accoustic model"
   ]
  },
  {
   "cell_type": "code",
   "execution_count": 83,
   "metadata": {},
   "outputs": [
    {
     "data": {
      "text/plain": [
       "ConvNet(\n",
       "  (layer1): Sequential(\n",
       "    (0): Conv2d(1, 8, kernel_size=(1, 1), stride=(1, 1), padding=(1, 1))\n",
       "    (1): ReLU()\n",
       "  )\n",
       "  (layer2): Sequential(\n",
       "    (0): Conv2d(8, 8, kernel_size=(1, 1), stride=(1, 1), padding=(1, 1))\n",
       "    (1): ReLU()\n",
       "  )\n",
       "  (drop_out): Dropout(p=0.5, inplace=False)\n",
       "  (fc1): Linear(in_features=26048, out_features=50, bias=True)\n",
       "  (fc2): Linear(in_features=50, out_features=128, bias=True)\n",
       ")"
      ]
     },
     "execution_count": 83,
     "metadata": {},
     "output_type": "execute_result"
    }
   ],
   "source": [
    "model_accoustic = ConvNet().float()\n",
    "model_accoustic.load_state_dict(torch.load(\"CNN-CQT-binary.pt\"))\n",
    "model_accoustic.eval()"
   ]
  },
  {
   "cell_type": "markdown",
   "metadata": {},
   "source": [
    "## Combining the two models"
   ]
  },
  {
   "cell_type": "code",
   "execution_count": 110,
   "metadata": {},
   "outputs": [
    {
     "name": "stdout",
     "output_type": "stream",
     "text": [
      "torch.Size([100, 128])\n",
      "torch.Size([100, 128])\n"
     ]
    }
   ],
   "source": [
    "# Train the model\n",
    "sr = 16384\n",
    "total_step = len(train_loader)\n",
    "loss_list = []\n",
    "acc_list = []\n",
    "num_epochs = 1\n",
    "with train_set, test_set:\n",
    "    for epoch in range(num_epochs):\n",
    "        for i, (x, y) in enumerate(test_loader):\n",
    "            inputs_y = y\n",
    "            inputs_y = inputs_y.float().to(device)\n",
    "            \n",
    "            tab_C = np.array([np.abs(librosa.cqt(ele, sr=sr)) for ele in x.numpy()])\n",
    "            tab_C = Variable(torch.from_numpy(tab_C).float(), requires_grad=False)\n",
    "            \n",
    "            print(model_NADE(inputs_y).shape)\n",
    "            \n",
    "            print(model_accoustic(tab_C).shape)\n",
    "            break\n",
    "        break\n",
    "    "
   ]
  },
  {
   "cell_type": "code",
   "execution_count": 111,
   "metadata": {},
   "outputs": [
    {
     "data": {
      "text/plain": [
       "[<matplotlib.lines.Line2D at 0x1e470ba85f8>]"
      ]
     },
     "execution_count": 111,
     "metadata": {},
     "output_type": "execute_result"
    },
    {
     "data": {
      "image/png": "[encoded data removed]",
      "text/plain": [
       "<Figure size 432x288 with 1 Axes>"
      ]
     },
     "metadata": {
      "needs_background": "light"
     },
     "output_type": "display_data"
    }
   ],
   "source": [
    "res_NADE = model_NADE(inputs_y)\n",
    "plt.plot(inputs_y[7].cpu().detach().numpy())\n",
    "plt.plot(res_NADE[7].cpu().detach().numpy())"
   ]
  },
  {
   "cell_type": "code",
   "execution_count": 112,
   "metadata": {},
   "outputs": [
    {
     "data": {
      "text/plain": [
       "[<matplotlib.lines.Line2D at 0x1e467ee76d8>]"
      ]
     },
     "execution_count": 112,
     "metadata": {},
     "output_type": "execute_result"
    },
    {
     "data": {
      "image/png": "[encoded data removed]",
      "text/plain": [
       "<Figure size 432x288 with 1 Axes>"
      ]
     },
     "metadata": {
      "needs_background": "light"
     },
     "output_type": "display_data"
    }
   ],
   "source": [
    "res_Accoustic = model_accoustic(tab_C)\n",
    "plt.plot(inputs_y[7].cpu().detach().numpy())\n",
    "plt.plot(res_Accoustic[7].cpu().detach().numpy())"
   ]
  },
  {
   "cell_type": "code",
   "execution_count": 160,
   "metadata": {},
   "outputs": [
    {
     "data": {
      "text/plain": [
       "5.4569682106375694e-12"
      ]
     },
     "execution_count": 160,
     "metadata": {},
     "output_type": "execute_result"
    },
    {
     "data": {
      "image/png": "[encoded data removed]",
      "text/plain": [
       "<Figure size 432x288 with 1 Axes>"
      ]
     },
     "metadata": {
      "needs_background": "light"
     },
     "output_type": "display_data"
    }
   ],
   "source": [
    "numpy_value = numpy_value/np.sum(numpy_value)\n",
    "numpy_value = numpy_value - np.mean(numpy_value) * np.ones(128)\n",
    "plt.plot(numpy_value)\n",
    "numpy_value.mean()"
   ]
  },
  {
   "cell_type": "markdown",
   "metadata": {},
   "source": [
    "### Define a function in order to get the most probable y from the accoustic model"
   ]
  },
  {
   "cell_type": "code",
   "execution_count": 268,
   "metadata": {},
   "outputs": [
    {
     "name": "stdout",
     "output_type": "stream",
     "text": [
      "5.116931296885014\n"
     ]
    },
    {
     "data": {
      "text/plain": [
       "[<matplotlib.lines.Line2D at 0x1e49a9e6c18>]"
      ]
     },
     "execution_count": 268,
     "metadata": {},
     "output_type": "execute_result"
    },
    {
     "data": {
      "image/png": "[encoded data removed]",
      "text/plain": [
       "<Figure size 432x288 with 1 Axes>"
      ]
     },
     "metadata": {
      "needs_background": "light"
     },
     "output_type": "display_data"
    }
   ],
   "source": [
    "def get_next_most_probable(indice_most,nombre_value,numpy_tab_value):    \n",
    "    \n",
    "    sort_index = np.argsort(numpy_tab_value)[::-1] \n",
    "    tab_val = np.zeros(128)\n",
    "    tab_inv_val = np.ones(128)\n",
    "    proba = 0\n",
    "    \n",
    "    random_indices = random.choices(sort_index[0:nombre_value+K] , k=nombre_value )\n",
    "    #print(random_indices)\n",
    "    \n",
    "    for ele in random_indices:\n",
    "        next_indice = sort_index[i]\n",
    "        tab_val[ele] = 1\n",
    "        tab_inv_val[ele] = 0\n",
    "        \n",
    "    #print(tab_inv_val)\n",
    "    #print(numpy_tab_value)\n",
    "    proba = tab_val.dot(numpy_tab_value) + nombre_value * tab_inv_val.dot(numpy_tab_value)\n",
    "    return tab_val, proba\n",
    "\n",
    "numpy_value = res_Accoustic[6].cpu().detach().numpy()\n",
    "\n",
    "tab_val, proba = get_next_most_probable(indice_most=0,nombre_value=2,numpy_tab_value=numpy_value)\n",
    "\n",
    "print(proba)\n",
    "\n",
    "plt.plot(inputs_y[6].cpu().detach().numpy())\n",
    "plt.plot(numpy_value)\n",
    "plt.plot(tab_val)"
   ]
  },
  {
   "cell_type": "markdown",
   "metadata": {},
   "source": [
    "### Define  function to sort in regards to the log likelihood"
   ]
  },
  {
   "cell_type": "code",
   "execution_count": 269,
   "metadata": {},
   "outputs": [],
   "source": [
    "def personal_sort(beam):\n",
    "    \n",
    "    log_likelihood_values = np.array([ ele[0] for ele in beam])\n",
    "    \n",
    "    sorted_log_values = np.argsort(log_likelihood_values)[::-1]\n",
    "    \n",
    "    array_beam = np.array(beam)\n",
    "    \n",
    "    sorted_beam = array_beam[sorted_log_values]\n",
    "    \n",
    "    return sorted_beam"
   ]
  },
  {
   "cell_type": "markdown",
   "metadata": {},
   "source": [
    "## Compute the Beam search algorithm"
   ]
  },
  {
   "cell_type": "code",
   "execution_count": 270,
   "metadata": {},
   "outputs": [],
   "source": [
    "## we have two parameters as we deals with chors : nombre_value and indice_most\n",
    "num_chords_max = 6\n",
    "K = 5\n",
    "\n",
    "## we will store all the beam object here\n",
    "beam = [(0,{},[])]\n",
    "\n",
    "## s is a sequence of y_0\n",
    "## l log likelyhood of s\n",
    "## ma accoustic model\n",
    "## ml language model\n",
    "size_max = 5\n",
    "\n",
    "## where the marginals P(yt) and priors P(y0), P(x0) are assumed to be ﬁxed w.r.t. the model parameters.\n",
    "for i in range(batch_size):\n",
    "    #print(i)\n",
    "    # res accoustic contains P(y|x)\n",
    "    tab_C = np.array([np.abs(librosa.cqt(ele, sr=sr)) for ele in x.numpy()])\n",
    "    tab_C = Variable(torch.from_numpy(tab_C).float(), requires_grad=False)\n",
    "    res_Accoustic = model_accoustic(tab_C)\n",
    "    ## new beam will be the answer for the batch i\n",
    "    new_beam = []\n",
    "    for ele in beam:\n",
    "        for j in range(1,num_chords_max):\n",
    "            for k in range(K):\n",
    "                #print(ele[2])\n",
    "                list_to_predict_language = list(np.copy(ele[2]))\n",
    "                # first create the next possible prediction\n",
    "                numpy_value = res_Accoustic[i].cpu().detach().numpy()\n",
    "                tab_val_y_accoustic,probability_y_x = get_next_most_probable(indice_most=k,nombre_value=j,numpy_tab_value=numpy_value)\n",
    "                # add it to the previous value in order to compute a full epoch\n",
    "                list_to_predict_language.append(tab_val_y_accoustic)\n",
    "                # transform list into array\n",
    "                matrix_to_predict_language = np.asarray(list_to_predict_language)\n",
    "                # transform it into a readable format for torch\n",
    "                matrix_to_predict_language = matrix_to_predict_language.reshape((-1,128))\n",
    "                #print('size of matrix to predict language : ',matrix_to_predict_language.shape)\n",
    "                # transform matrix \n",
    "                matrix_to_predict_language = Variable(torch.from_numpy(matrix_to_predict_language).float(), requires_grad=False).to(device)\n",
    "                #print('size of matrix to predict language in torch format : ',matrix_to_predict_language.size())\n",
    "                # retransform it in an array\n",
    "                tab_Nade_Value = model_NADE(matrix_to_predict_language).cpu().detach().numpy()\n",
    "                #print(tab_Nade_Value.shape)\n",
    "                # log likelihood with constant prior\n",
    "                loss = np.log(np.sum(tab_Nade_Value)*probability_y_x) + ele[0]\n",
    "                couple_to_add = (loss,{},list_to_predict_language)\n",
    "                # add the new couple to the next beam\n",
    "                new_beam.append(couple_to_add)\n",
    "    new_beam = personal_sort(new_beam)\n",
    "    beam = new_beam[0:size_max]"
   ]
  }
 ],
 "metadata": {
  "kernelspec": {
   "display_name": "Python 3",
   "language": "python",
   "name": "python3"
  },
  "language_info": {
   "codemirror_mode": {
    "name": "ipython",
    "version": 3
   },
   "file_extension": ".py",
   "mimetype": "text/x-python",
   "name": "python",
   "nbconvert_exporter": "python",
   "pygments_lexer": "ipython3",
   "version": "3.6.7"
  }
 },
 "nbformat": 4,
 "nbformat_minor": 2
}
